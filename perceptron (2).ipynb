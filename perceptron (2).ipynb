{
 "cells": [
  {
   "cell_type": "code",
   "execution_count": 3,
   "id": "12136f7b-2c37-4de8-bbbb-7e7452bd2cf7",
   "metadata": {},
   "outputs": [],
   "source": [
    "import numpy as np\n",
    "\n",
    "class Perceptron:\n",
    "    def __init__(self,learning_rate,epochs):\n",
    "        self.weights=None\n",
    "        self.bias=None\n",
    "        self.learning_rate=learning_rate\n",
    "        self.epochs=epochs\n",
    "    #heaviside activation function\n",
    "    def activation(self,z):\n",
    "        return np.heaviside(z,0)\n",
    "    def fit(self,x,y):\n",
    "        n_features=x.shape[1]\n",
    "\n",
    "    #Initializing weights and bias\n",
    "        self.weights=np.zeros((n_features))\n",
    "        self.bias=0\n",
    "\n",
    "        #Iterating until the number of epochs\n",
    "        for epoch in range(self.epochs):\n",
    "            #Traversing through the entire training rate\n",
    "            for i in range(len(x)):\n",
    "                z=np.dot(x,self.weights)+self.bias\n",
    "                y_pred=self.activation(z)\n",
    "                #Updating weights and bias\n",
    "                self.weights=self.weights + self.learning_rate*(y[i]-y_pred[i])*x[i]\n",
    "                self.bias=self.bias + self.learning_rate*(y[i]-y_pred[i])\n",
    "        return self.weights,self.bias\n",
    "\n",
    "    def predict(self,x):\n",
    "        z=np.dot(x,self.weights) + self.bias\n",
    "        return self.activation(z)\n",
    "    "
   ]
  },
  {
   "cell_type": "code",
   "execution_count": 5,
   "id": "3ce60ff8-2023-4787-a71b-b65748a4590b",
   "metadata": {},
   "outputs": [],
   "source": [
    "from sklearn.datasets import load_iris\n",
    "iris=load_iris()"
   ]
  },
  {
   "cell_type": "code",
   "execution_count": 11,
   "id": "8e98b84a-9fb5-4cf0-854b-4d6dc83581f6",
   "metadata": {},
   "outputs": [],
   "source": [
    "from sklearn.model_selection import train_test_split\n",
    "\n",
    "x=iris.data[:,(0,1)] #petal length,petal width\n",
    "y=(iris.target==0).astype(np.int64)\n",
    "\n",
    "x_train,x_test,y_train,y_test=train_test_split(x,y,test_size=0.5,random_state=42)"
   ]
  },
  {
   "cell_type": "code",
   "execution_count": 13,
   "id": "ffe7eebc-271f-4938-833e-bdc322300462",
   "metadata": {},
   "outputs": [],
   "source": [
    "perceptron = Perceptron(0.001,100)\n",
    "\n",
    "perceptron.fit(x_train,y_train) #Train the model\n",
    "\n",
    "pred = perceptron.predict(x_test)"
   ]
  },
  {
   "cell_type": "code",
   "execution_count": 15,
   "id": "3ab8898b-9905-4843-8e21-16ff2eea17d0",
   "metadata": {},
   "outputs": [
    {
     "data": {
      "text/plain": [
       "0.96"
      ]
     },
     "execution_count": 15,
     "metadata": {},
     "output_type": "execute_result"
    }
   ],
   "source": [
    "from sklearn.metrics import accuracy_score\n",
    "\n",
    "accuracy_score(pred,y_test)"
   ]
  },
  {
   "cell_type": "code",
   "execution_count": 17,
   "id": "0d192c29-1fc2-41b3-8cd9-982bf2a0a29f",
   "metadata": {},
   "outputs": [
    {
     "name": "stdout",
     "output_type": "stream",
     "text": [
      "              precision    recall  f1-score   support\n",
      "\n",
      "         0.0       0.93      1.00      0.97        43\n",
      "         1.0       1.00      0.91      0.95        32\n",
      "\n",
      "    accuracy                           0.96        75\n",
      "   macro avg       0.97      0.95      0.96        75\n",
      "weighted avg       0.96      0.96      0.96        75\n",
      "\n"
     ]
    }
   ],
   "source": [
    "from sklearn.metrics import classification_report\n",
    "\n",
    "report=classification_report(pred,y_test,digits=2)\n",
    "print(report)"
   ]
  },
  {
   "cell_type": "code",
   "execution_count": 21,
   "id": "38a34911-5b24-4748-80ed-e5e53171b384",
   "metadata": {},
   "outputs": [
    {
     "data": {
      "text/plain": [
       "0.88"
      ]
     },
     "execution_count": 21,
     "metadata": {},
     "output_type": "execute_result"
    }
   ],
   "source": [
    "from sklearn.linear_model import Perceptron\n",
    "\n",
    "sk_perceptron = Perceptron()\n",
    "sk_perceptron.fit(x_train,y_train)\n",
    "sk_perceptron_pred=sk_perceptron.predict(x_test)\n",
    "\n",
    "#Accuracy\n",
    "accuracy_score(sk_perceptron_pred, y_test)"
   ]
  },
  {
   "cell_type": "code",
   "execution_count": null,
   "id": "2d396d05-a0a6-4f31-9d87-10368b4154d9",
   "metadata": {},
   "outputs": [],
   "source": []
  }
 ],
 "metadata": {
  "kernelspec": {
   "display_name": "Python 3 (ipykernel)",
   "language": "python",
   "name": "python3"
  },
  "language_info": {
   "codemirror_mode": {
    "name": "ipython",
    "version": 3
   },
   "file_extension": ".py",
   "mimetype": "text/x-python",
   "name": "python",
   "nbconvert_exporter": "python",
   "pygments_lexer": "ipython3",
   "version": "3.12.4"
  }
 },
 "nbformat": 4,
 "nbformat_minor": 5
}
