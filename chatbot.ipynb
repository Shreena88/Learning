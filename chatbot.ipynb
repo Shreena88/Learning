{
 "cells": [
  {
   "cell_type": "code",
   "execution_count": 9,
   "id": "57e9bfd3-cde4-4ed6-9c4d-a74098b1bec7",
   "metadata": {},
   "outputs": [
    {
     "name": "stderr",
     "output_type": "stream",
     "text": [
      "[nltk_data] Downloading package punkt to\n",
      "[nltk_data]     C:\\Users\\01\\AppData\\Roaming\\nltk_data...\n",
      "[nltk_data]   Package punkt is already up-to-date!\n",
      "[nltk_data] Downloading package wordnet to\n",
      "[nltk_data]     C:\\Users\\01\\AppData\\Roaming\\nltk_data...\n",
      "[nltk_data]   Package wordnet is already up-to-date!\n"
     ]
    },
    {
     "data": {
      "text/plain": [
       "True"
      ]
     },
     "execution_count": 9,
     "metadata": {},
     "output_type": "execute_result"
    }
   ],
   "source": [
    "# --- Import necessary libraries ---\n",
    "import nltk\n",
    "import string\n",
    "import random\n",
    "from sklearn.feature_extraction.text import TfidfVectorizer\n",
    "from sklearn.metrics.pairwise import cosine_similarity\n",
    "\n",
    "nltk.download('punkt')\n",
    "nltk.download('wordnet')\n"
   ]
  },
  {
   "cell_type": "code",
   "execution_count": 7,
   "id": "402140ff-e9f9-4e23-9b79-0a9e6dfba380",
   "metadata": {},
   "outputs": [],
   "source": [
    "# --- Lemmatizer setup ---\n",
    "lemmer = nltk.stem.WordNetLemmatizer()\n",
    "\n",
    "def LemTokens(tokens):\n",
    "    return [lemmer.lemmatize(token) for token in tokens]\n",
    "\n",
    "remove_punct_dict = dict((ord(punct), None) for punct in string.punctuation)\n",
    "\n",
    "def LemNormalize(text):\n",
    "    return LemTokens(nltk.word_tokenize(text.lower().translate(remove_punct_dict)))\n"
   ]
  },
  {
   "cell_type": "code",
   "execution_count": 11,
   "id": "45f698f5-423b-4066-a044-0de66351c994",
   "metadata": {},
   "outputs": [],
   "source": [
    "# --- Greeting Function ---\n",
    "greet_input = [\"hello\", \"hi\", \"greetings\", \"sup\", \"what's up\", \"hey\"]\n",
    "greet_response = [\"Hi!\", \"Hey!\", \"*nods*\", \"Hi there!\", \"Hello!\", \"I'm glad you're talking to me!\"]\n",
    "\n",
    "def greet(sentence):\n",
    "    for word in sentence.split():\n",
    "        if word.lower() in greet_input:\n",
    "            return random.choice(greet_response)\n"
   ]
  },
  {
   "cell_type": "code",
   "execution_count": 13,
   "id": "2c9b8ed6-654c-457c-a3e2-2450239ea674",
   "metadata": {},
   "outputs": [],
   "source": [
    "# --- Sample Corpus to build TF-IDF context (add your own sentences for better results) ---\n",
    "corpus = [\n",
    "    \"Hello! How can I help you?\",\n",
    "    \"What is your name?\",\n",
    "    \"How do you work?\",\n",
    "    \"Tell me about yourself.\",\n",
    "    \"Goodbye!\"\n",
    "]\n",
    "\n",
    "sent_tokens = corpus.copy()\n",
    "word_tokens = nltk.word_tokenize(\" \".join(corpus))\n",
    "\n"
   ]
  },
  {
   "cell_type": "code",
   "execution_count": 15,
   "id": "e52d1daa-06ea-4623-8a99-498a79d6faed",
   "metadata": {},
   "outputs": [],
   "source": [
    "# --- Response Function ---\n",
    "def response(user_response):\n",
    "    robo_response = ''\n",
    "    sent_tokens.append(user_response)\n",
    "    TfidfVec = TfidfVectorizer(tokenizer=LemNormalize, stop_words='english')\n",
    "    tfidf = TfidfVec.fit_transform(sent_tokens)\n",
    "    \n",
    "    vals = cosine_similarity(tfidf[-1], tfidf)\n",
    "    idx = vals.argsort()[0][-2]\n",
    "    \n",
    "    flat = vals.flatten()\n",
    "    flat.sort()\n",
    "    req_tfidf = flat[-2]\n",
    "\n",
    "    if req_tfidf == 0:\n",
    "        robo_response = \"I am sorry! I don't understand you.\"\n",
    "    else:\n",
    "        robo_response = sent_tokens[idx]\n",
    "    \n",
    "    sent_tokens.pop()  # Remove the user response from corpus\n",
    "    return robo_response\n",
    "\n"
   ]
  },
  {
   "cell_type": "code",
   "execution_count": null,
   "id": "daeede29-17a5-47df-8257-8c42d05efa0b",
   "metadata": {},
   "outputs": [
    {
     "name": "stdout",
     "output_type": "stream",
     "text": [
      "BOT: My name is Eliza. Let's have a conversation! Type 'bye' to exit anytime.\n"
     ]
    }
   ],
   "source": [
    "# --- Start chatbot ---\n",
    "print(\"BOT: My name is Eliza. Let's have a conversation! Type 'bye' to exit anytime.\")\n",
    "\n",
    "flag = True\n",
    "while flag:\n",
    "    user_response = input().lower()\n",
    "\n",
    "    if user_response != 'bye':\n",
    "        if user_response in ['thanks', 'thank you']:\n",
    "            flag = False\n",
    "            print(\"BOT: You are welcome...\")\n",
    "        else:\n",
    "            if greet(user_response) is not None:\n",
    "                print(\"BOT: \" + greet(user_response))\n",
    "            else:\n",
    "                print(\"BOT:\", response(user_response))\n",
    "    else:\n",
    "        flag = False\n",
    "        print(\"BOT: Goodbye! Take care <3\")\n"
   ]
  },
  {
   "cell_type": "code",
   "execution_count": null,
   "id": "8d08ec91-d9dd-44dc-8c0f-0751e7e51bbf",
   "metadata": {},
   "outputs": [],
   "source": []
  }
 ],
 "metadata": {
  "kernelspec": {
   "display_name": "Python 3 (ipykernel)",
   "language": "python",
   "name": "python3"
  },
  "language_info": {
   "codemirror_mode": {
    "name": "ipython",
    "version": 3
   },
   "file_extension": ".py",
   "mimetype": "text/x-python",
   "name": "python",
   "nbconvert_exporter": "python",
   "pygments_lexer": "ipython3",
   "version": "3.12.4"
  }
 },
 "nbformat": 4,
 "nbformat_minor": 5
}
